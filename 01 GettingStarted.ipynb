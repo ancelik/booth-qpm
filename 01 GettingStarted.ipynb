{
 "cells": [
  {
   "cell_type": "markdown",
   "metadata": {},
   "source": [
    "## GettingStarted.ipynb\n",
    "\n",
    "In this code, we will run basic Python code to make sure Python is properly installed at your device.\n",
    "\n",
    "Code for the Chicago Booth course on Quantitative Portfolio Management by Ralph S.J. Koijen and (current and former) teaching assistants Sangmin Oh, Federico Mainardi, and Laurenz de Rosa."
   ]
  },
  {
   "cell_type": "code",
   "execution_count": 12,
   "metadata": {},
   "outputs": [
    {
     "name": "stdout",
     "output_type": "stream",
     "text": [
      "Collecting fastparquet\n",
      "  Downloading fastparquet-2024.11.0-cp312-cp312-macosx_11_0_arm64.whl.metadata (4.2 kB)\n",
      "Requirement already satisfied: pandas>=1.5.0 in /opt/anaconda3/envs/qpm/lib/python3.12/site-packages (from fastparquet) (2.2.3)\n",
      "Requirement already satisfied: numpy in /opt/anaconda3/envs/qpm/lib/python3.12/site-packages (from fastparquet) (1.26.4)\n",
      "Collecting cramjam>=2.3 (from fastparquet)\n",
      "  Downloading cramjam-2.9.1-cp312-cp312-macosx_11_0_arm64.whl.metadata (4.9 kB)\n",
      "Collecting fsspec (from fastparquet)\n",
      "  Using cached fsspec-2024.12.0-py3-none-any.whl.metadata (11 kB)\n",
      "Requirement already satisfied: packaging in /opt/anaconda3/envs/qpm/lib/python3.12/site-packages (from fastparquet) (23.2)\n",
      "Requirement already satisfied: python-dateutil>=2.8.2 in /opt/anaconda3/envs/qpm/lib/python3.12/site-packages (from pandas>=1.5.0->fastparquet) (2.9.0.post0)\n",
      "Requirement already satisfied: pytz>=2020.1 in /opt/anaconda3/envs/qpm/lib/python3.12/site-packages (from pandas>=1.5.0->fastparquet) (2024.2)\n",
      "Requirement already satisfied: tzdata>=2022.7 in /opt/anaconda3/envs/qpm/lib/python3.12/site-packages (from pandas>=1.5.0->fastparquet) (2024.2)\n",
      "Requirement already satisfied: six>=1.5 in /opt/anaconda3/envs/qpm/lib/python3.12/site-packages (from python-dateutil>=2.8.2->pandas>=1.5.0->fastparquet) (1.17.0)\n",
      "Downloading fastparquet-2024.11.0-cp312-cp312-macosx_11_0_arm64.whl (685 kB)\n",
      "\u001b[2K   \u001b[90m━━━━━━━━━━━━━━━━━━━━━━━━━━━━━━━━━━━━━━━\u001b[0m \u001b[32m685.4/685.4 kB\u001b[0m \u001b[31m325.2 kB/s\u001b[0m eta \u001b[36m0:00:00\u001b[0ma \u001b[36m0:00:01\u001b[0m\n",
      "\u001b[?25hDownloading cramjam-2.9.1-cp312-cp312-macosx_11_0_arm64.whl (1.9 MB)\n",
      "\u001b[2K   \u001b[90m━━━━━━━━━━━━━━━━━━━━━━━━━━━━━━━━━━━━━━━━\u001b[0m \u001b[32m1.9/1.9 MB\u001b[0m \u001b[31m594.2 kB/s\u001b[0m eta \u001b[36m0:00:00\u001b[0ma \u001b[36m0:00:01\u001b[0m\n",
      "\u001b[?25hUsing cached fsspec-2024.12.0-py3-none-any.whl (183 kB)\n",
      "Installing collected packages: fsspec, cramjam, fastparquet\n",
      "Successfully installed cramjam-2.9.1 fastparquet-2024.11.0 fsspec-2024.12.0\n",
      "Note: you may need to restart the kernel to use updated packages.\n"
     ]
    }
   ],
   "source": [
    "pip install fastparquet"
   ]
  },
  {
   "cell_type": "code",
   "execution_count": 9,
   "metadata": {},
   "outputs": [
    {
     "name": "stdout",
     "output_type": "stream",
     "text": [
      "Packages successfully imported..!\n"
     ]
    }
   ],
   "source": [
    "import wrds\n",
    "import pandas as pd \n",
    "import matplotlib.pyplot as plt\n",
    "print('Packages successfully imported..!')"
   ]
  },
  {
   "cell_type": "markdown",
   "metadata": {},
   "source": [
    "### 1. Importing Packages\n",
    "\n",
    "This notebook tests that your Python installation works. \n",
    "\n",
    "- You can download the data from: https://www.dropbox.com/scl/fo/ze2tut4prlptuyhuyofx4/AI7wV4q-6e-KDBSnRhyJptI?rlkey=93yaxhwrk0w8drx5d7o71cvow&dl=0. \n",
    "- Please copy the file `GettingStartedSample.parquet` to a local folder. \n",
    "\n",
    "Now we're ready to start! The goal is not to understand the code yet (we will by the end of the course); just to see that you Python installation works.\n",
    "\n",
    "Every box that has \"[]:\" in front of it needs to be run. To run it, put your cursor in the box and then push the \"play button\" on top. Alternatively, you can press \"shift+enter.\""
   ]
  },
  {
   "cell_type": "markdown",
   "metadata": {},
   "source": [
    "Before we get started, make sure to enter the path to your directory that contains the data."
   ]
  },
  {
   "cell_type": "code",
   "execution_count": 10,
   "metadata": {},
   "outputs": [],
   "source": [
    "_DATA_DIR = 'Data'      # <-- Edit this line"
   ]
  },
  {
   "cell_type": "markdown",
   "metadata": {},
   "source": [
    "## GettingStarted.ipynb\n",
    "\n",
    "This script is intended to make sure that Python 3 is installed properly."
   ]
  },
  {
   "cell_type": "markdown",
   "metadata": {},
   "source": [
    "### 2. Loading Data\n",
    "\n",
    "We will use datasets with `.parquet` format.\n",
    "\n",
    "For importing `.parquet` files, we will use the `read_parquet` function available in the `pandas` package:"
   ]
  },
  {
   "cell_type": "code",
   "execution_count": 13,
   "metadata": {},
   "outputs": [
    {
     "name": "stdout",
     "output_type": "stream",
     "text": [
      "            permno       prc          comnam\n",
      "date                                        \n",
      "2001-01-01   84788  0.865625  AMAZON COM INC\n",
      "2001-02-01   84788  0.509375  AMAZON COM INC\n",
      "2001-03-01   84788  0.511500  AMAZON COM INC\n",
      "2001-04-01   84788  0.789000  AMAZON COM INC\n",
      "2001-05-01   84788  0.834500  AMAZON COM INC\n",
      "\n",
      ".dta file successfully loaded!\n"
     ]
    }
   ],
   "source": [
    "df = pd.read_parquet('%s/GettingStartedSample.parquet' %(_DATA_DIR)).set_index('date')\n",
    "print(df.head(5))\n",
    "print('\\n.dta file successfully loaded!')"
   ]
  },
  {
   "cell_type": "markdown",
   "metadata": {},
   "source": [
    "Throughout the course, you will be able use data already prepared for you. Alternatively, you may also decide to download and construct datasets directly from WRDS. This choice is advisable for those of you that would like to keep using these scripts in the future. In order to download and construct data directly from WRDS, we proceed in three steps:\n",
    "1. Make sure to have a WRDS account with associated username and password.\n",
    "3. Once you complete step 1., you can run the cell below.\n",
    "4. A message will appear in the cell output. This is Python asking to confirm your username and password.\n",
    "5. Type your username and press Enter. Type your password and press Enter one more time.\n",
    "5. As a last step, Python will ask you to confirm the creation of a web connection. You can confirm by typing the word y.\n",
    "\n",
    "Congratulations! You are now ready to download data directly from the web."
   ]
  },
  {
   "cell_type": "code",
   "execution_count": 14,
   "metadata": {},
   "outputs": [
    {
     "name": "stdout",
     "output_type": "stream",
     "text": [
      "WRDS recommends setting up a .pgpass file.\n",
      "Created .pgpass file successfully.\n",
      "You can create this file yourself at any time with the create_pgpass_file() function.\n",
      "Loading library list...\n",
      "Done\n",
      "            permno          comnam       prc\n",
      "date                                        \n",
      "2001-01-31   84788  AMAZON COM INC  0.865625\n",
      "2001-02-28   84788  AMAZON COM INC  0.509375\n",
      "2001-03-30   84788  AMAZON COM INC  0.511500\n",
      "2001-04-30   84788  AMAZON COM INC  0.789000\n",
      "2001-05-31   84788  AMAZON COM INC  0.834500\n",
      "\n",
      ".dta file successfully loaded!\n"
     ]
    }
   ],
   "source": [
    "import_data = True         # <-- Edit this line\n",
    "\n",
    "if import_data == True:\n",
    "    \n",
    "    # Choose start and end dates\n",
    "    start_date = '2001-01-01'\n",
    "    end_date = '2024-09-30'\n",
    "\n",
    "    # Establish connection with wrds\n",
    "    db = wrds.Connection()\n",
    "\n",
    "    # Define your SQL statement\n",
    "    sql_statement = \"\"\"\n",
    "    SELECT a.permno, b.ticker, a.date, a.prc, a.cfacshr, b.comnam\n",
    "    FROM crsp_m_stock.msf as a\n",
    "    LEFT JOIN crsp_m_stock.msenames as b\n",
    "    ON a.permno=b.permno AND b.namedt<=a.date AND a.date<=b.nameendt\n",
    "    WHERE a.date >= '{}' AND a.date <= '{}' AND b.ticker = 'AMZN'\n",
    "    \"\"\"\n",
    "\n",
    "    # Perform the query\n",
    "    df = db.raw_sql(sql_statement.format(start_date, end_date))\n",
    "    \n",
    "    # Reformat date\n",
    "    df['date'] = pd.to_datetime(df['date'])\n",
    "    \n",
    "    # Restrict to one specific stock: AMAZON\n",
    "    #df = df[df['permno'] == 84788]\n",
    "    \n",
    "    # Adjust prices for stock splits, issuance etc.\n",
    "    df['prc'] = df['prc']/df['cfacshr']\n",
    "    \n",
    "    # Minor adjustments\n",
    "    df = df[['permno','date','comnam','prc']].set_index('date') # Restrict attention to variables of interest: PERMNO, Date, Company Name and Price\n",
    "\n",
    "    # Close the connection\n",
    "    db.close()\n",
    "    \n",
    "    print(df.head(5))\n",
    "    print('\\n.dta file successfully loaded!')"
   ]
  },
  {
   "cell_type": "markdown",
   "metadata": {},
   "source": [
    "### 3. Plotting Data\n",
    "\n",
    "We will create a basic plot to test the functionality:"
   ]
  },
  {
   "cell_type": "code",
   "execution_count": 15,
   "metadata": {},
   "outputs": [
    {
     "data": {
      "image/png": "[encoded data removed]",
      "text/plain": [
       "<Figure size 1200x600 with 1 Axes>"
      ]
     },
     "metadata": {},
     "output_type": "display_data"
    },
    {
     "name": "stdout",
     "output_type": "stream",
     "text": [
      "\n",
      "Plot successfully plotted!\n"
     ]
    }
   ],
   "source": [
    "fig = plt.figure(figsize = (12, 6))\n",
    "plt.plot(df[['prc']], color = 'maroon', linestyle = '--')\n",
    "plt.show()\n",
    "plt.close()\n",
    "print('\\nPlot successfully plotted!')"
   ]
  },
  {
   "cell_type": "code",
   "execution_count": null,
   "metadata": {},
   "outputs": [],
   "source": []
  }
 ],
 "metadata": {
  "kernelspec": {
   "display_name": "base",
   "language": "python",
   "name": "python3"
  },
  "language_info": {
   "codemirror_mode": {
    "name": "ipython",
    "version": 3
   },
   "file_extension": ".py",
   "mimetype": "text/x-python",
   "name": "python",
   "nbconvert_exporter": "python",
   "pygments_lexer": "ipython3",
   "version": "3.12.8"
  }
 },
 "nbformat": 4,
 "nbformat_minor": 4
}
