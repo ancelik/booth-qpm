{
 "cells": [
  {
   "cell_type": "markdown",
   "metadata": {},
   "source": [
    "## PortfolioTimeSeries.ipynb\n",
    "\n",
    "Code for the Chicago Booth course on Quantitative Portfolio Management by Ralph S.J. Koijen and (current and former) teaching assistants Sangmin Oh, Federico Mainardi, and Laurenz de Rosa."
   ]
  },
  {
   "cell_type": "markdown",
   "metadata": {},
   "source": [
    "### Preliminaries\n",
    "\n",
    "This code builds time-series portfolio strategies. *This notebook also contains the questions for problem set 2.*\n",
    "- As always, the data can be found in the dropbox folder: https://www.dropbox.com/scl/fo/ze2tut4prlptuyhuyofx4/AI7wV4q-6e-KDBSnRhyJptI?rlkey=93yaxhwrk0w8drx5d7o71cvow&dl=0. \n",
    "- Please download the file `ETFdata_small.parquet`. \n",
    "\n",
    "We first load several packages to initialize Python."
   ]
  },
  {
   "cell_type": "code",
   "execution_count": 31,
   "metadata": {},
   "outputs": [],
   "source": [
    "import statsmodels.api as sm\n",
    "import pandas as pd\n",
    "import datetime as dt\n",
    "import numpy as np\n",
    "import matplotlib.pyplot as plt\n",
    "import wrds\n",
    "import qpm\n",
    "import qpm_download\n",
    "\n",
    "pd.options.mode.chained_assignment = None"
   ]
  },
  {
   "cell_type": "markdown",
   "metadata": {},
   "source": [
    "Select wether you would like to download data directly from WRDS (`import_data` = True) or to load data from Dropbpx (`import_data` = False). If you decide to load data from Dropbox, make sure to define the data directoy (`_DATA_DIR`)."
   ]
  },
  {
   "cell_type": "code",
   "execution_count": 32,
   "metadata": {},
   "outputs": [],
   "source": [
    "import_data = False            # <-- Edit this line\n",
    "_DATA_DIR = 'Data'       # <-- Edit this line"
   ]
  },
  {
   "cell_type": "markdown",
   "metadata": {},
   "source": [
    "We can select the sample period and ticker here. We select an ETF covering the financial sector (ticker: XLF) and the S&P500 (ticker: SPY). To keep the data files initially small so that the code runs quickly, the file only contains two tickers. \n",
    "\n",
    "However, we can adjust this to any ticker. The file `ETFdata.parquet` contains thousands of ETFs, and these data you could explore for your final project. This may be relevant for your final project as ETFs allow you to explore other assets classes, industries, or countries. For an overview of available ETFs, you can for instance visit this website: https://etfdb.com/etfs/. "
   ]
  },
  {
   "cell_type": "code",
   "execution_count": 33,
   "metadata": {},
   "outputs": [],
   "source": [
    "# Select the sample period\n",
    "_SAMPLE_START = '2005-01-01'\n",
    "_SAMPLE_END = '2024-08-31'\n",
    "\n",
    "# Select the ticker\n",
    "_ETF_TICKER = 'SPY'"
   ]
  },
  {
   "cell_type": "markdown",
   "metadata": {},
   "source": [
    "Now we're ready to start!"
   ]
  },
  {
   "cell_type": "markdown",
   "metadata": {},
   "source": [
    "### Step 1. Load Data\n",
    "\n",
    "We first load the *daily* ETF data and we store it in `df_ETF`. If you selected import_data = True, the code will donwload and construct the data directly from WRDS. Otherwise, the code will import data from the Dropbox folder."
   ]
  },
  {
   "cell_type": "code",
   "execution_count": 34,
   "metadata": {},
   "outputs": [],
   "source": [
    "if import_data == True: \n",
    "    \n",
    "    df_ETF_raw = qpm_download.time_series(_SAMPLE_START, _SAMPLE_END)\n",
    "        \n",
    "if import_data == False:\n",
    "    \n",
    "    # Load the data\n",
    "    df_ETF_raw = pd.read_parquet('%s/ETFdata_small.parquet' %(_DATA_DIR))\n",
    "    "
   ]
  },
  {
   "cell_type": "markdown",
   "metadata": {},
   "source": [
    "For each ETF, we have the daily return, `retd`, and the return of that month, `retM`. We use the daily return to compute the standard deviation below. The variable `date` is the daily date; the variable `ym` is the year and month. \n",
    "\n",
    "The factors (`mktrf` = excess return on the market, `smb` = the Fama and French size factor, `hml` = the Fama and French value factor, `rf` = the risk-free rate, `umd` = the momentum factor) are all *monthly* returns. We also include the `CPI`, `inflation`, and `yr5breakeven`, which is the 5-year break-even inflation rate. We include those in case you like to explore strategies related to inflation risk, which is an important theme in the industry at the moment."
   ]
  },
  {
   "cell_type": "code",
   "execution_count": 35,
   "metadata": {},
   "outputs": [
    {
     "name": "stdout",
     "output_type": "stream",
     "text": [
      "        date         ym      retd      retM   mktrf     rf\n",
      "0 2003-01-02 2003-01-01  0.032189 -0.024595 -0.0257  0.001\n",
      "3 2003-01-03 2003-01-01  0.003075 -0.024595 -0.0257  0.001\n",
      "4 2003-01-06 2003-01-01  0.017625 -0.024595 -0.0257  0.001\n",
      "            date         ym      retd      retM   mktrf     rf\n",
      "10941 2024-09-26 2024-09-01  0.003965  0.020979  0.0174  0.004\n",
      "10943 2024-09-27 2024-09-01 -0.001450  0.020979  0.0174  0.004\n",
      "10944 2024-09-30 2024-09-01  0.004007  0.020979  0.0174  0.004\n"
     ]
    }
   ],
   "source": [
    "# Select the ETF using the ticker symbol\n",
    "df_ETF = df_ETF_raw[df_ETF_raw['ticker'] == _ETF_TICKER]\n",
    "\n",
    "# Select the relevant variables for our strategy\n",
    "df_ETF = df_ETF[['date','ym','retd','retM','mktrf','rf']]\n",
    "\n",
    "# Sort the data\n",
    "df_ETF.sort_values(['date'], inplace = True)\n",
    "\n",
    "# Print the data \n",
    "print(df_ETF.head(3))\n",
    "print(df_ETF.tail(3))"
   ]
  },
  {
   "cell_type": "markdown",
   "metadata": {},
   "source": [
    "### Step 2. Portfolio Construction\n",
    "\n",
    "To compute the standard deviation, there are two steps that are combined into a single line of code. \n",
    "\n",
    "- We take the column `retd`, which are the daily returns, and we select the data for a given month, that is, `ym`. This is the part `groupby(['ym'])['retd']`. \n",
    "- Using the daily returns in a given month, we compute the standard deviation. This is done by `transform(lambda x : x.std())`. We then store the data in a new column, labeled `sd`."
   ]
  },
  {
   "cell_type": "code",
   "execution_count": 36,
   "metadata": {},
   "outputs": [
    {
     "name": "stdout",
     "output_type": "stream",
     "text": [
      "        date         ym      retd      retM   mktrf     rf        sd\n",
      "0 2003-01-02 2003-01-01  0.032189 -0.024595 -0.0257  0.001  0.014983\n",
      "3 2003-01-03 2003-01-01  0.003075 -0.024595 -0.0257  0.001  0.014983\n",
      "4 2003-01-06 2003-01-01  0.017625 -0.024595 -0.0257  0.001  0.014983\n",
      "            date         ym      retd      retM   mktrf     rf        sd\n",
      "10941 2024-09-26 2024-09-01  0.003965  0.020979  0.0174  0.004  0.008584\n",
      "10943 2024-09-27 2024-09-01 -0.001450  0.020979  0.0174  0.004  0.008584\n",
      "10944 2024-09-30 2024-09-01  0.004007  0.020979  0.0174  0.004  0.008584\n"
     ]
    }
   ],
   "source": [
    "df_ETF['sd'] = df_ETF.groupby(['ym'])['retd'].transform(lambda x : x.std())\n",
    "print(df_ETF.head(3))\n",
    "print(df_ETF.tail(3))"
   ]
  },
  {
   "cell_type": "markdown",
   "metadata": {},
   "source": [
    "We now want to convert the daily data to monthly data. \n",
    "- We keep the first observation for each month (`ym`). The part `.first()` keep the first observation for each month."
   ]
  },
  {
   "cell_type": "code",
   "execution_count": 37,
   "metadata": {},
   "outputs": [
    {
     "name": "stdout",
     "output_type": "stream",
     "text": [
      "                   ym      retM        sd   mktrf      rf\n",
      "ym                                                       \n",
      "2003-01-01 2003-01-01 -0.024595  0.014983 -0.0257  0.0010\n",
      "2003-02-01 2003-02-01 -0.013479  0.011635 -0.0188  0.0009\n",
      "2003-03-01 2003-03-01  0.002289  0.016972  0.0109  0.0010\n"
     ]
    }
   ],
   "source": [
    "df = df_ETF.groupby(['ym'])[['ym', 'retM', 'sd', 'mktrf', 'rf']].first()\n",
    "print(df.head(3))"
   ]
  },
  {
   "cell_type": "markdown",
   "metadata": {},
   "source": [
    "We can only form portfolios based on information that we know in advance. For instance, for the portfolio that we hold in January 2023, we can only use data that we know in December 2022. We therefore lag the volatility signal by one period. \n",
    "- We compute the lag, using `shift` as we have seen in the mean-variance problem set. We then annualize the standard deviation by the square root of the number of trading days, $\\sqrt{252}$.\n"
   ]
  },
  {
   "cell_type": "code",
   "execution_count": 38,
   "metadata": {},
   "outputs": [
    {
     "name": "stdout",
     "output_type": "stream",
     "text": [
      "                   ym      retM        sd   mktrf      rf       Lsd\n",
      "ym                                                                 \n",
      "2003-01-01 2003-01-01 -0.024595  0.014983 -0.0257  0.0010       NaN\n",
      "2003-02-01 2003-02-01 -0.013479  0.011635 -0.0188  0.0009  0.237842\n",
      "2003-03-01 2003-03-01  0.002289  0.016972  0.0109  0.0010  0.184699\n"
     ]
    }
   ],
   "source": [
    "df['Lsd'] = df['sd'].shift(1) * np.sqrt(252)\n",
    "print(df.head(3))"
   ]
  },
  {
   "cell_type": "markdown",
   "metadata": {},
   "source": [
    "There is one missing value created, but we will take care of this in constructing the portfolio weights.\n",
    "\n",
    "We are now ready to compute the portfolio weight as\n",
    "$$w(t) = \\min\\left\\{\\frac{c}{\\sigma_t},2\\right\\},$$\n",
    "where $c$ is a scaling factor. It determines the amount of risk we'd like to take. Higher values of $c$ correspond to riskier strategies. We want to have an average $\\beta$ of about 1. We choose $c=1.25 \\times \\overline{\\sigma_t}$, where $\\overline{\\sigma_t}$ is the average volatility, $\\sigma_t$. We take 1.25 so that the average $\\beta$ is around one. We take the minimum of $\\frac{c}{\\sigma_t}$ and 2 to avoid that the portfolio gets too extreme during low volatility periods. \n",
    "\n",
    "The code has three steps\n",
    "1. Compute the scaling $c$.\n",
    "2. Compute the portfolio weight. Note that in computing the portfolio weight, it ends with `fillna(1)`. This means that missing portfolio weights (caused by the missing value of the standard deviation above) are replaced with 1, that is, invest all capital in the ETF.\n",
    "3. In the final step, we drop the data from the standard deviation (`sd`), the lagged standard deviation (`Lsd`) and the scaling factor (`c`), as we no longer need those for the remainder of the code."
   ]
  },
  {
   "cell_type": "code",
   "execution_count": 39,
   "metadata": {},
   "outputs": [
    {
     "name": "stdout",
     "output_type": "stream",
     "text": [
      "                   ym      retM   mktrf      rf    weight\n",
      "ym                                                       \n",
      "2003-01-01 2003-01-01 -0.024595 -0.0257  0.0010  1.000000\n",
      "2003-02-01 2003-02-01 -0.013479 -0.0188  0.0009  0.813066\n",
      "2003-03-01 2003-03-01  0.002289  0.0109  0.0010  1.047004\n"
     ]
    }
   ],
   "source": [
    "df['c'] = 1.25 * df['Lsd'].mean()\n",
    "df['weight'] = df.apply(lambda x : min(x['c'] / x['Lsd'], 2), axis = 1).fillna(1)\n",
    "df.drop(columns = ['sd','Lsd', 'c'], inplace = True)\n",
    "print(df.head(3))"
   ]
  },
  {
   "cell_type": "markdown",
   "metadata": {},
   "source": [
    "We can now compute the return on the portfolio\n",
    "$$r_p(t) = w(t) r_{ETF}(t)+[1-w(t)]r_f(t).$$\n",
    "The first line computes the raw return, and the next two lines compute the excess return by subtracting the risk-free rate."
   ]
  },
  {
   "cell_type": "code",
   "execution_count": 40,
   "metadata": {},
   "outputs": [
    {
     "name": "stdout",
     "output_type": "stream",
     "text": [
      "                   ym      retM   mktrf    weight      retP     reteP  \\\n",
      "ym                                                                      \n",
      "2003-01-01 2003-01-01 -0.024595 -0.0257  1.000000 -0.024595 -0.025595   \n",
      "2003-02-01 2003-02-01 -0.013479 -0.0188  0.813066 -0.010791 -0.011691   \n",
      "2003-03-01 2003-03-01  0.002289  0.0109  1.047004  0.002350  0.001350   \n",
      "\n",
      "               reteM  \n",
      "ym                    \n",
      "2003-01-01 -0.025595  \n",
      "2003-02-01 -0.014379  \n",
      "2003-03-01  0.001289  \n"
     ]
    }
   ],
   "source": [
    "# Returns on the volatility timing strategy\n",
    "df['retP'] = df['weight'] * df['retM'] + (1 - df['weight']) * df['rf']\n",
    "\n",
    "# Excess returns on the volatility timing strategy\n",
    "df['reteP'] = df['retP'] - df['rf']\n",
    "\n",
    "# Excess returns on the ETF itself (without volatility timing)\n",
    "df['reteM'] = df['retM'] - df['rf']\n",
    "\n",
    "# Drop the risk-free rate from the data as we no longer need it\n",
    "df.drop(columns = ['rf'], inplace = True)\n",
    "print(df.head(3))"
   ]
  },
  {
   "cell_type": "markdown",
   "metadata": {},
   "source": [
    "We are done building the strategy! Let's analyze the returns now."
   ]
  },
  {
   "cell_type": "markdown",
   "metadata": {},
   "source": [
    "### Step 3. Portfolio Analytics"
   ]
  },
  {
   "cell_type": "markdown",
   "metadata": {},
   "source": [
    "We first select the sample period that we would like to study."
   ]
  },
  {
   "cell_type": "code",
   "execution_count": 41,
   "metadata": {},
   "outputs": [
    {
     "name": "stdout",
     "output_type": "stream",
     "text": [
      "                   ym      retM   mktrf    weight      retP     reteP  \\\n",
      "ym                                                                      \n",
      "2005-01-01 2005-01-01 -0.022421 -0.0276  2.000000 -0.046442 -0.048042   \n",
      "2005-02-01 2005-02-01  0.020904  0.0189  1.926270  0.038785  0.037185   \n",
      "2005-03-01 2005-03-01 -0.018262 -0.0197  1.791328 -0.034375 -0.036475   \n",
      "\n",
      "               reteM  \n",
      "ym                    \n",
      "2005-01-01 -0.024021  \n",
      "2005-02-01  0.019304  \n",
      "2005-03-01 -0.020362  \n"
     ]
    }
   ],
   "source": [
    "df = df[(df['ym'] >= _SAMPLE_START) & (df['ym'] <= _SAMPLE_END)]\n",
    "print(df.head(3))"
   ]
  },
  {
   "cell_type": "markdown",
   "metadata": {},
   "source": [
    "Let's plot the portfolio weights to see what the strategy does."
   ]
  },
  {
   "cell_type": "code",
   "execution_count": 42,
   "metadata": {},
   "outputs": [
    {
     "data": {
      "image/png": "[encoded data removed]",
      "text/plain": [
       "<Figure size 1200x400 with 1 Axes>"
      ]
     },
     "metadata": {},
     "output_type": "display_data"
    }
   ],
   "source": [
    "fig, ax = plt.subplots()\n",
    "ax.plot(df['ym'], df['weight'], linewidth=2.0)\n",
    "plt.ylabel('Date')\n",
    "plt.ylabel('Portfolio weight')\n",
    "plt.show()"
   ]
  },
  {
   "cell_type": "markdown",
   "metadata": {},
   "source": [
    "Plot cumulative returns:"
   ]
  },
  {
   "cell_type": "code",
   "execution_count": 43,
   "metadata": {},
   "outputs": [
    {
     "data": {
      "image/png": "[encoded data removed]",
      "text/plain": [
       "<Figure size 1200x400 with 1 Axes>"
      ]
     },
     "metadata": {},
     "output_type": "display_data"
    }
   ],
   "source": [
    "qpm.plot_cumulative_returns_etf(df, var_list = ['retM', 'retP'])"
   ]
  },
  {
   "cell_type": "markdown",
   "metadata": {},
   "source": [
    "The next block computes the *annualized* average return, the standard deviation, and Sharpe ratio for each of the strategies."
   ]
  },
  {
   "cell_type": "code",
   "execution_count": 44,
   "metadata": {},
   "outputs": [
    {
     "name": "stdout",
     "output_type": "stream",
     "text": [
      "        mean    std     sr\n",
      "reteM  0.094  0.151  0.624\n",
      "reteP  0.136  0.176  0.777\n"
     ]
    }
   ],
   "source": [
    "# Compute summary statistics, and only keep the mean and the standard deviation\n",
    "summary = df[['reteM', 'reteP']].describe().T[['mean', 'std']]\n",
    "\n",
    "# Annualize the mean\n",
    "summary['mean'] = summary['mean'] * 12\n",
    "\n",
    "# Annualize the standard deviation\n",
    "summary['std'] = summary['std'] * np.sqrt(12)\n",
    "\n",
    "# Compute the Sharpe ratio\n",
    "summary['sr'] = summary['mean'] / summary['std']\n",
    "\n",
    "# Print the mean, standard deviation, and Sharpe ratio\n",
    "print(summary.round(3))"
   ]
  },
  {
   "cell_type": "markdown",
   "metadata": {},
   "source": [
    "Now let's see whether the strategy using `SPY` generates alpha. We use the market excess return as our benchmark. You can change the end of the sample by modifying the date `2019-12-01`. In the first case, we stop before 2020."
   ]
  },
  {
   "cell_type": "code",
   "execution_count": 45,
   "metadata": {},
   "outputs": [
    {
     "name": "stdout",
     "output_type": "stream",
     "text": [
      "                            OLS Regression Results                            \n",
      "==============================================================================\n",
      "Dep. Variable:                  reteP   R-squared:                       0.786\n",
      "Model:                            OLS   Adj. R-squared:                  0.785\n",
      "Method:                 Least Squares   F-statistic:                     654.9\n",
      "Date:                Sun, 19 Jan 2025   Prob (F-statistic):           1.52e-61\n",
      "Time:                        14:00:01   Log-Likelihood:                 432.68\n",
      "No. Observations:                 180   AIC:                            -861.4\n",
      "Df Residuals:                     178   BIC:                            -855.0\n",
      "Df Model:                           1                                         \n",
      "Covariance Type:            nonrobust                                         \n",
      "==============================================================================\n",
      "                 coef    std err          t      P>|t|      [0.025      0.975]\n",
      "------------------------------------------------------------------------------\n",
      "const          0.0039      0.002      2.348      0.020       0.001       0.007\n",
      "mktrf          1.0225      0.040     25.592      0.000       0.944       1.101\n",
      "==============================================================================\n",
      "Omnibus:                       22.747   Durbin-Watson:                   1.905\n",
      "Prob(Omnibus):                  0.000   Jarque-Bera (JB):               91.277\n",
      "Skew:                           0.286   Prob(JB):                     1.51e-20\n",
      "Kurtosis:                       6.441   Cond. No.                         24.4\n",
      "==============================================================================\n",
      "\n",
      "Notes:\n",
      "[1] Standard Errors assume that the covariance matrix of the errors is correctly specified.\n"
     ]
    }
   ],
   "source": [
    "# Select the sample\n",
    "reg_df_select = df[df['ym'] <= '2019-12-31']\n",
    "\n",
    "# Run a regression of reteP (the excess return on the vol timed strategy) on the excess return of the market\n",
    "print(sm.OLS(reg_df_select['reteP'], sm.add_constant(reg_df_select['mktrf'])).fit().summary())"
   ]
  },
  {
   "cell_type": "markdown",
   "metadata": {},
   "source": [
    "Let's interpret the output. There are 180 observations, that is, 180 months. The constant is the alpha, and it equals 0.39% per month. This implies an annual alpha of 12 * 0.39 = 4.68%. The corresponding t-statistic is 2.35. This implies that the alpha is signifficantly positive at conventional levels (-1.96 and 1.96 are the usual cutoffs).\n",
    "\n",
    "The beta is 1.02 (the coefficient corresponding to mktrf). It is also highly significant. Hence, we here have a strategy that simply times the market based on volatility and it generates an alpha of almost 5% a year. "
   ]
  },
  {
   "cell_type": "markdown",
   "metadata": {},
   "source": [
    "# Question 1\n",
    "\n",
    "Run the same regression but now including the data in 2020 and 2021. Copy the code in the previous cell and change the date to `2021-12-30`. How does the performance change and what is the economic interpretation?"
   ]
  },
  {
   "cell_type": "code",
   "execution_count": 46,
   "metadata": {},
   "outputs": [
    {
     "name": "stdout",
     "output_type": "stream",
     "text": [
      "                            OLS Regression Results                            \n",
      "==============================================================================\n",
      "Dep. Variable:                  reteP   R-squared:                       0.767\n",
      "Model:                            OLS   Adj. R-squared:                  0.766\n",
      "Method:                 Least Squares   F-statistic:                     664.2\n",
      "Date:                Sun, 19 Jan 2025   Prob (F-statistic):           8.86e-66\n",
      "Time:                        14:00:40   Log-Likelihood:                 473.05\n",
      "No. Observations:                 204   AIC:                            -942.1\n",
      "Df Residuals:                     202   BIC:                            -935.5\n",
      "Df Model:                           1                                         \n",
      "Covariance Type:            nonrobust                                         \n",
      "==============================================================================\n",
      "                 coef    std err          t      P>|t|      [0.025      0.975]\n",
      "------------------------------------------------------------------------------\n",
      "const          0.0032      0.002      1.886      0.061      -0.000       0.007\n",
      "mktrf          0.9923      0.039     25.772      0.000       0.916       1.068\n",
      "==============================================================================\n",
      "Omnibus:                       27.425   Durbin-Watson:                   2.001\n",
      "Prob(Omnibus):                  0.000   Jarque-Bera (JB):              107.210\n",
      "Skew:                          -0.389   Prob(JB):                     5.24e-24\n",
      "Kurtosis:                       6.465   Cond. No.                         23.0\n",
      "==============================================================================\n",
      "\n",
      "Notes:\n",
      "[1] Standard Errors assume that the covariance matrix of the errors is correctly specified.\n"
     ]
    }
   ],
   "source": [
    "## Insert your code here (part A)\n",
    "# Select the sample\n",
    "reg_df_select = df[df['ym'] <= '2021-12-30']\n",
    "\n",
    "# Run a regression of reteP (the excess return on the vol timed strategy) on the excess return of the market\n",
    "print(sm.OLS(reg_df_select['reteP'], sm.add_constant(reg_df_select['mktrf'])).fit().summary())"
   ]
  },
  {
   "cell_type": "code",
   "execution_count": null,
   "metadata": {},
   "outputs": [],
   "source": [
    "#The positive alpha indicates that the strategy might still add value beyond market exposure, but the reduced t-statistic (1.886) suggests weaker confidence in this finding. \n",
    "#The beta's high significance reinforces that the portfolio is market-driven, with minimal deviations in systematic risk."
   ]
  },
  {
   "cell_type": "markdown",
   "metadata": {},
   "source": [
    "Now let's run the same regression until the end of the sample. Copy the code in the previous cell and change the date to `_SAMPLE_END`. How does the performance change and what is the economic interpretation?"
   ]
  },
  {
   "cell_type": "code",
   "execution_count": 47,
   "metadata": {},
   "outputs": [
    {
     "name": "stdout",
     "output_type": "stream",
     "text": [
      "                            OLS Regression Results                            \n",
      "==============================================================================\n",
      "Dep. Variable:                  reteP   R-squared:                       0.787\n",
      "Model:                            OLS   Adj. R-squared:                  0.786\n",
      "Method:                 Least Squares   F-statistic:                     865.7\n",
      "Date:                Sun, 19 Jan 2025   Prob (F-statistic):           1.37e-80\n",
      "Time:                        14:07:49   Log-Likelihood:                 552.05\n",
      "No. Observations:                 236   AIC:                            -1100.\n",
      "Df Residuals:                     234   BIC:                            -1093.\n",
      "Df Model:                           1                                         \n",
      "Covariance Type:            nonrobust                                         \n",
      "==============================================================================\n",
      "                 coef    std err          t      P>|t|      [0.025      0.975]\n",
      "------------------------------------------------------------------------------\n",
      "const          0.0034      0.002      2.179      0.030       0.000       0.006\n",
      "mktrf          1.0018      0.034     29.423      0.000       0.935       1.069\n",
      "==============================================================================\n",
      "Omnibus:                       30.721   Durbin-Watson:                   2.000\n",
      "Prob(Omnibus):                  0.000   Jarque-Bera (JB):              122.515\n",
      "Skew:                          -0.393   Prob(JB):                     2.49e-27\n",
      "Kurtosis:                       6.441   Cond. No.                         22.3\n",
      "==============================================================================\n",
      "\n",
      "Notes:\n",
      "[1] Standard Errors assume that the covariance matrix of the errors is correctly specified.\n"
     ]
    }
   ],
   "source": [
    "## Insert your code here (part B)\n",
    "# Select the sample\n",
    "reg_df_select = df[df['ym'] <= _SAMPLE_END]\n",
    "\n",
    "# Run a regression of reteP (the excess return on the vol timed strategy) on the excess return of the market\n",
    "print(sm.OLS(reg_df_select['reteP'], sm.add_constant(reg_df_select['mktrf'])).fit().summary())"
   ]
  },
  {
   "cell_type": "code",
   "execution_count": null,
   "metadata": {},
   "outputs": [],
   "source": [
    "#The portfolio behaves like the market in terms of systematic risk exposure but still manages to generate alpha.\n",
    "# The β>1 (slightly above 1) suggests the portfolio is marginally more sensitive to market movements than the average market portfolio."
   ]
  },
  {
   "cell_type": "markdown",
   "metadata": {},
   "source": [
    "Now let's explore the financial markets ETF. We change the ticker to `XLF` and run the same code as before. We collect the relevant code in the cell below. You can run it without modifications."
   ]
  },
  {
   "cell_type": "code",
   "execution_count": 48,
   "metadata": {},
   "outputs": [
    {
     "name": "stdout",
     "output_type": "stream",
     "text": [
      "Done rebuilding the data...\n"
     ]
    }
   ],
   "source": [
    "# Re-run the code from above but now for XLF\n",
    "\n",
    "_ETF_TICKER = 'XLF'\n",
    "\n",
    "# Load the data \n",
    "df_ETF = df_ETF_raw[df_ETF_raw['ticker'] == _ETF_TICKER]\n",
    "df_ETF.sort_values(['date', 'ym'], inplace = True)\n",
    "\n",
    "# Compute the standard deviation\n",
    "df_ETF['sd'] = df_ETF.groupby(['ym'])['retd'].transform(lambda x : x.std())\n",
    "\n",
    "# Select one observation per month\n",
    "df = df_ETF.groupby(['ym'])[['retM', 'sd', 'ym', 'rf', 'mktrf']].first()\n",
    "\n",
    "# Compute the lagged standard deviation \n",
    "df['Lsd'] = df['sd'].shift(1) * np.sqrt(252)\n",
    "\n",
    "# Compute the scaling\n",
    "df['c'] = 1.25 * df['Lsd'].mean()\n",
    "\n",
    "# Compute the portfolio weight\n",
    "df['weight'] = df.apply(lambda x : min(x['c'] / x['Lsd'], 2), axis = 1).fillna(1)\n",
    "\n",
    "# Compute strategy returns, excess strategy returns, and the excess return on the ETF itself\n",
    "df['retP'] = df['weight'] * df['retM'] + (1 - df['weight']) * df['rf']\n",
    "df['reteP'] = df['retP'] - df['rf']\n",
    "df['reteM'] = df['retM'] - df['rf']\n",
    "\n",
    "# Select the sample\n",
    "df = df[(df['ym'] >= _SAMPLE_START) & (df['ym'] <= _SAMPLE_END)]\n",
    "\n",
    "reg_df_select = df\n",
    "\n",
    "print(\"Done rebuilding the data...\")"
   ]
  },
  {
   "cell_type": "markdown",
   "metadata": {},
   "source": [
    "Recall that `reteM` is the excess return on the untimed ETF. We first measure the performance of this ETF, untimed, by regressing it on the benchmark. "
   ]
  },
  {
   "cell_type": "code",
   "execution_count": 49,
   "metadata": {},
   "outputs": [
    {
     "name": "stdout",
     "output_type": "stream",
     "text": [
      "                            OLS Regression Results                            \n",
      "==============================================================================\n",
      "Dep. Variable:                  reteM   R-squared:                       0.731\n",
      "Model:                            OLS   Adj. R-squared:                  0.730\n",
      "Method:                 Least Squares   F-statistic:                     634.9\n",
      "Date:                Sun, 19 Jan 2025   Prob (F-statistic):           1.33e-68\n",
      "Time:                        14:10:14   Log-Likelihood:                 470.78\n",
      "No. Observations:                 236   AIC:                            -937.6\n",
      "Df Residuals:                     234   BIC:                            -930.6\n",
      "Df Model:                           1                                         \n",
      "Covariance Type:            nonrobust                                         \n",
      "==============================================================================\n",
      "                 coef    std err          t      P>|t|      [0.025      0.975]\n",
      "------------------------------------------------------------------------------\n",
      "const         -0.0045      0.002     -2.067      0.040      -0.009      -0.000\n",
      "mktrf          1.2106      0.048     25.197      0.000       1.116       1.305\n",
      "==============================================================================\n",
      "Omnibus:                       27.306   Durbin-Watson:                   1.887\n",
      "Prob(Omnibus):                  0.000   Jarque-Bera (JB):              109.256\n",
      "Skew:                          -0.303   Prob(JB):                     1.89e-24\n",
      "Kurtosis:                       6.278   Cond. No.                         22.3\n",
      "==============================================================================\n",
      "\n",
      "Notes:\n",
      "[1] Standard Errors assume that the covariance matrix of the errors is correctly specified.\n"
     ]
    }
   ],
   "source": [
    "# Regress the ETF excess return (untimed) on the excess return on the market\n",
    "print(sm.OLS(reg_df_select['reteM'], sm.add_constant(reg_df_select['mktrf'])).fit().summary())"
   ]
  },
  {
   "cell_type": "markdown",
   "metadata": {},
   "source": [
    "The underperformance is quite large. The alpha is -0.45% per month, or -5.4% per year. The alpha is statistically significant. Now let's explore whether volatility timing helps. "
   ]
  },
  {
   "cell_type": "markdown",
   "metadata": {},
   "source": [
    "# Question 2\n",
    "\n",
    "Consider a performance regression of the volatility-timed XLF using the same benchmark, as before. For the sample, we can use the full sample. Describe the results."
   ]
  },
  {
   "cell_type": "code",
   "execution_count": 50,
   "metadata": {},
   "outputs": [
    {
     "name": "stdout",
     "output_type": "stream",
     "text": [
      "                            OLS Regression Results                            \n",
      "==============================================================================\n",
      "Dep. Variable:                  reteP   R-squared:                       0.556\n",
      "Model:                            OLS   Adj. R-squared:                  0.554\n",
      "Method:                 Least Squares   F-statistic:                     293.0\n",
      "Date:                Sun, 19 Jan 2025   Prob (F-statistic):           3.85e-43\n",
      "Time:                        14:10:41   Log-Likelihood:                 375.26\n",
      "No. Observations:                 236   AIC:                            -746.5\n",
      "Df Residuals:                     234   BIC:                            -739.6\n",
      "Df Model:                           1                                         \n",
      "Covariance Type:            nonrobust                                         \n",
      "==============================================================================\n",
      "                 coef    std err          t      P>|t|      [0.025      0.975]\n",
      "------------------------------------------------------------------------------\n",
      "const      -6.023e-05      0.003     -0.018      0.985      -0.007       0.006\n",
      "mktrf          1.2328      0.072     17.118      0.000       1.091       1.375\n",
      "==============================================================================\n",
      "Omnibus:                       21.641   Durbin-Watson:                   1.815\n",
      "Prob(Omnibus):                  0.000   Jarque-Bera (JB):               87.256\n",
      "Skew:                           0.028   Prob(JB):                     1.13e-19\n",
      "Kurtosis:                       5.978   Cond. No.                         22.3\n",
      "==============================================================================\n",
      "\n",
      "Notes:\n",
      "[1] Standard Errors assume that the covariance matrix of the errors is correctly specified.\n"
     ]
    }
   ],
   "source": [
    "# Select the sample\n",
    "reg_df_select = df[df['ym'] <= _SAMPLE_END]\n",
    "\n",
    "# Run a regression of reteP (the excess return on the vol timed strategy) on the excess return of the market\n",
    "print(sm.OLS(reg_df_select['reteP'], sm.add_constant(reg_df_select['mktrf'])).fit().summary())"
   ]
  },
  {
   "cell_type": "code",
   "execution_count": null,
   "metadata": {},
   "outputs": [],
   "source": [
    "#The alpha is effectively zero (statistically and practically), meaning the portfolio does not generate excess return beyond what the market explains.\n",
    "#The beta is significantly greater than 1, suggesting the portfolio is taking on higher market risk.\n"
   ]
  },
  {
   "cell_type": "markdown",
   "metadata": {},
   "source": [
    "# Question 3\n",
    "Repeat this exercise, but now using the untimed XLF returns as the benchmark, and the full sample. Describe the economic and statistical significance of the results. For which investors would the results in this analysis be particularly relevant?"
   ]
  },
  {
   "cell_type": "code",
   "execution_count": 52,
   "metadata": {},
   "outputs": [
    {
     "name": "stdout",
     "output_type": "stream",
     "text": [
      "                            OLS Regression Results                            \n",
      "==============================================================================\n",
      "Dep. Variable:                  reteP   R-squared:                       0.723\n",
      "Model:                            OLS   Adj. R-squared:                  0.722\n",
      "Method:                 Least Squares   F-statistic:                     610.6\n",
      "Date:                Sun, 19 Jan 2025   Prob (F-statistic):           3.70e-67\n",
      "Time:                        14:14:24   Log-Likelihood:                 430.90\n",
      "No. Observations:                 236   AIC:                            -857.8\n",
      "Df Residuals:                     234   BIC:                            -850.9\n",
      "Df Model:                           1                                         \n",
      "Covariance Type:            nonrobust                                         \n",
      "==============================================================================\n",
      "                 coef    std err          t      P>|t|      [0.025      0.975]\n",
      "------------------------------------------------------------------------------\n",
      "const          0.0047      0.003      1.828      0.069      -0.000       0.010\n",
      "reteM          0.9926      0.040     24.710      0.000       0.913       1.072\n",
      "==============================================================================\n",
      "Omnibus:                       39.407   Durbin-Watson:                   1.651\n",
      "Prob(Omnibus):                  0.000   Jarque-Bera (JB):              247.122\n",
      "Skew:                           0.388   Prob(JB):                     2.18e-54\n",
      "Kurtosis:                       7.953   Cond. No.                         15.8\n",
      "==============================================================================\n",
      "\n",
      "Notes:\n",
      "[1] Standard Errors assume that the covariance matrix of the errors is correctly specified.\n"
     ]
    }
   ],
   "source": [
    "\n",
    "# Select the sample\n",
    "reg_df_select = df[df['ym'] <= _SAMPLE_END]\n",
    "\n",
    "# Run a regression of reteP (the excess return on the vol timed strategy) on the excess return of the untimed XLF\n",
    "print(sm.OLS(reg_df_select['reteP'], sm.add_constant(reg_df_select['reteM'])).fit().summary())"
   ]
  },
  {
   "cell_type": "code",
   "execution_count": null,
   "metadata": {},
   "outputs": [],
   "source": [
    "#The annualized alpha of 5.64% is meaningful for an investment strategy. \n",
    "#However, the t-statistic (1.828) indicates that the result is not robustly significant at conventional levels but still suggests potential value creation.\n",
    "#The beta of 0.9926 confirms the portfolio closely mirrors the market in systematic risk while attempting to generate alpha.\n",
    "\n",
    "#This portfolio would be particularly appealing to risk-averse or market-neutral investors who are looking for stable, market-like exposure with the potential for modest excess returns over time. \n",
    "#Long-term or institutional investors with patience for small, compounding gains would find this strategy especially relevant.\n"
   ]
  },
  {
   "cell_type": "markdown",
   "metadata": {},
   "source": [
    "Done!"
   ]
  }
 ],
 "metadata": {
  "kernelspec": {
   "display_name": "base",
   "language": "python",
   "name": "python3"
  },
  "language_info": {
   "codemirror_mode": {
    "name": "ipython",
    "version": 3
   },
   "file_extension": ".py",
   "mimetype": "text/x-python",
   "name": "python",
   "nbconvert_exporter": "python",
   "pygments_lexer": "ipython3",
   "version": "3.12.8"
  }
 },
 "nbformat": 4,
 "nbformat_minor": 4
}
