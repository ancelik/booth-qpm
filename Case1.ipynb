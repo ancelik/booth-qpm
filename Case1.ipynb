{
 "cells": [
  {
   "attachments": {},
   "cell_type": "markdown",
   "metadata": {},
   "source": [
    "## Case 1: Innovating in Active ETFs\n",
    "\n",
    "Download the file `data_case1.csv` from the section `Modules/Week 6`. Make sure that the file is in the same data folder that you typically use for the other codes. \n",
    "\n",
    "The file contains data from May 2013 until December 2024. The first column contains the date, then the 3 Fama and French factors (the excess return on the market, `mktrf`, the size factor, `smb`, and the value factor, `hml`), then the momentum factor (`umd`), followed by 4 ETFs: `chep` from Quantshares, `mom` from Quantshares, `vbr` from Vanguard, and `mtum` from iShares. The ETF returns are in excess of 30-day T-bill rate.\n",
    "\n",
    "The goal of the `chep` ETF is to provide exposure to the value factor, while the goal of `mom` is to provide exposure to the momentum factor. `vbr` is a small-cap value ETF, while the goal of `mtum` is to provide exposure to the momentum factor.\n",
    "\n",
    "The ETFs from Quantshares were discontinued in 2020 and 2021, while those from iShares and Vanguard are still traded and very successful. We first analyze the performance of the different ETFs, and then explore several key strategic questions when introducing ETFs.\n",
    "\n",
    "We start by initializing Python."
   ]
  },
  {
   "cell_type": "code",
   "execution_count": 5,
   "metadata": {},
   "outputs": [],
   "source": [
    "import pandas as pd\n",
    "import numpy as np\n",
    "import statsmodels.formula.api as smf\n",
    "from statsmodels.iolib.summary2 import summary_col"
   ]
  },
  {
   "attachments": {},
   "cell_type": "markdown",
   "metadata": {},
   "source": [
    "We then load the data and print the first couple of lines to understand the structure of the data."
   ]
  },
  {
   "cell_type": "code",
   "execution_count": null,
   "metadata": {},
   "outputs": [],
   "source": [
    "# Load data\n",
    "df = pd.read_csv(\"../Data/data_case1.csv\", index_col=\"date\")\n",
    "\n",
    "print(df.head())\n",
    "print(df.tail())"
   ]
  },
  {
   "attachments": {},
   "cell_type": "markdown",
   "metadata": {},
   "source": [
    "We first report the summary statistics of the factors and the four ETFs. This code snippet is the same as the one we have used in the volatility-timing code.\n",
    "\n",
    "**Question 1:** Discuss the summary statistics. Based on the summary statistics *alone*, can we conclude that the ETFs achieve their stated goals?"
   ]
  },
  {
   "cell_type": "code",
   "execution_count": null,
   "metadata": {},
   "outputs": [],
   "source": [
    "# Compute summary statistics\n",
    "summary = df.describe().T[['mean', 'std']]\n",
    "\n",
    "# Annualize the mean\n",
    "summary['mean'] = summary['mean'] * 12\n",
    "\n",
    "# Annualize the standard deviation\n",
    "summary['std'] = summary['std'] * np.sqrt(12)\n",
    "\n",
    "# Compute the Sharpe ratio\n",
    "summary['sr'] = summary['mean'] / summary['std']\n",
    "\n",
    "# Print the mean, standard deviation, and Sharpe ratio\n",
    "print(summary.round(3))"
   ]
  },
  {
   "attachments": {},
   "cell_type": "markdown",
   "metadata": {},
   "source": [
    "\n",
    "**Question 2:** Next, we regress the excess returns of each of the ETFs on the excess return on the market, that is, the CAPM regression. Explain the difference in CAPM betas between the Quantshares ETFs (`chep`, `mom`) and those of either Vanguard (`vbr`) or iShares (`mtum`)."
   ]
  },
  {
   "cell_type": "code",
   "execution_count": null,
   "metadata": {},
   "outputs": [],
   "source": [
    "# ETF: CHEP\n",
    "model_chep = smf.ols(formula='chep ~ mktrf', data=df)\n",
    "results_chep = model_chep.fit()\n",
    "\n",
    "# ETF: MOM\n",
    "model_mom = smf.ols(formula='mom ~ mktrf', data=df)\n",
    "results_mom = model_mom.fit()\n",
    "\n",
    "# ETF: VBR\n",
    "model_vbr = smf.ols(formula='vbr ~ mktrf', data=df)\n",
    "results_vbr = model_vbr.fit()\n",
    "\n",
    "# ETF: MTUM\n",
    "model_mtum = smf.ols(formula='mtum ~ mktrf', data=df)\n",
    "results_mtum = model_mtum.fit()\n",
    "\n",
    "# Create the summary table\n",
    "models = [results_chep, results_mom, results_vbr, results_mtum]\n",
    "performance_table = summary_col(models,stars=True)\n",
    "print(performance_table)"
   ]
  },
  {
   "attachments": {},
   "cell_type": "markdown",
   "metadata": {},
   "source": [
    "We now want to explore what happens if we control for size (`smb`), value (`hml`), and momentum (`umd`) in addition to the market factor (`mktrf`). \n",
    "- In Python, if we want to regress $y$ on $x_1$ and $x_2$, $y = a + b_1x_1 + b_2x_2 + e$, then we write `model = smf.ols(formula='y ~ x1 + x2', data=df)`. \n",
    "\n",
    "\n",
    "**Question 3a:** Complete the code below to regress the excess returns of each of the ETFs on the market factor, smb, hml, and the momentum factor. Report the regression table.\n",
    "\n",
    "**Question 3b:** Based on the table, do you conclude that the ETFs are successful in achieving their stated goals? In answering the question, discuss both the estimates of the alphas, the betas, and the R-squared. Discuss the benefits of market- and factor-neutral investing."
   ]
  },
  {
   "cell_type": "code",
   "execution_count": null,
   "metadata": {},
   "outputs": [],
   "source": [
    "## Insert your code here"
   ]
  },
  {
   "attachments": {},
   "cell_type": "markdown",
   "metadata": {},
   "source": [
    "For the following questions, you can use the material in the case, lecture notes, et cetera\n",
    "\n",
    "**Question 4:** What are some of the benefits of ETFs? And of active ETFs? How would you characterize the competitive landscape?\n",
    "\n",
    "**Question 5:** Why would retail and institutional investors be interested in factor investing? How might each be expected to use QuantShares? What concerns might they have?\n",
    "\n",
    "**Question 6:** How should Karunakaran stage the upcoming launch and future expansion of the QuantShares business in the current environment? How should he address the direct and indirect marketing opportunities? How might FFCM establish and maintain a direct competitive advantage factor-based ETFs?"
   ]
  }
 ],
 "metadata": {
  "kernelspec": {
   "display_name": "Python 3",
   "language": "python",
   "name": "python3"
  },
  "language_info": {
   "codemirror_mode": {
    "name": "ipython",
    "version": 3
   },
   "file_extension": ".py",
   "mimetype": "text/x-python",
   "name": "python",
   "nbconvert_exporter": "python",
   "pygments_lexer": "ipython3",
   "version": "3.11.9"
  },
  "orig_nbformat": 4
 },
 "nbformat": 4,
 "nbformat_minor": 2
}
